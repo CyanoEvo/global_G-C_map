{
 "metadata": {
  "name": "",
  "signature": "sha256:4feda91ee393c355452590eb7155f43ee58f4ba22ff7c17a349a0d114c093ae8"
 },
 "nbformat": 3,
 "nbformat_minor": 0,
 "worksheets": []
}