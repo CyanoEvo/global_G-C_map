{
 "metadata": {
  "name": "",
  "signature": "sha256:cc9e8a72799200a4d79b547c5c4d09e2ea36d854a1f9132c7abc0ffecf5033c1"
 },
 "nbformat": 3,
 "nbformat_minor": 0,
 "worksheets": [
  {
   "cells": [
    {
     "cell_type": "code",
     "collapsed": false,
     "input": [
      "import string\n",
      "import os\n"
     ],
     "language": "python",
     "metadata": {},
     "outputs": [],
     "prompt_number": 1
    },
    {
     "cell_type": "code",
     "collapsed": false,
     "input": [
      "def strip_fasta(fname):\n",
      "    \"\"\"Removes header from fasta file\"\"\"\n",
      "    seq = open(fname)\n",
      "    seq = seq.read()\n",
      "    seq_strip = '\\n'.join(seq.split('\\n')[1:])\n",
      "    return seq_strip"
     ],
     "language": "python",
     "metadata": {},
     "outputs": [],
     "prompt_number": 2
    },
    {
     "cell_type": "code",
     "collapsed": false,
     "input": [
      "def gc_count(sequence):\n",
      "    \"\"\"calculates G-C content of fasta file\"\"\"\n",
      "    total_bp = sequence.count(\"A\") + sequence.count(\"T\") + sequence.count(\"G\") + sequence.count(\"C\")\n",
      "    total_GC = sequence.count(\"G\") + sequence.count(\"C\")\n",
      "    GC_content = (float(total_GC)/float(total_bp)*100)\n",
      "    return GC_content"
     ],
     "language": "python",
     "metadata": {},
     "outputs": [],
     "prompt_number": 3
    },
    {
     "cell_type": "code",
     "collapsed": false,
     "input": [
      "    path=\"/home/cyanoevo/Projects/g_c_mapping/seqs/\"\n",
      "    dirList=os.listdir(path)\n",
      "    for fname in dirList:\n",
      "        if fname.endswith(\".fasta\"):\n",
      "            print fname\n",
      "            z=strip_fasta(os.path.join(path,fname))\n",
      "            print gc_count(z)"
     ],
     "language": "python",
     "metadata": {},
     "outputs": [
      {
       "output_type": "stream",
       "stream": "stdout",
       "text": [
        "sequence.fasta\n",
        "54.3740573152\n",
        "21.42_N_72.72_E.fasta\n",
        "58.8797814208\n",
        "29.8191_S__25.3499_E.fasta\n",
        "54.7619047619\n",
        "21.92_N_71.31_E.fasta\n",
        "55.7931034483\n",
        "78.57_N__11.39_E.fasta\n",
        "55.7230980123\n"
       ]
      }
     ],
     "prompt_number": 4
    },
    {
     "cell_type": "code",
     "collapsed": false,
     "input": [],
     "language": "python",
     "metadata": {},
     "outputs": [],
     "prompt_number": 0
    },
    {
     "cell_type": "code",
     "collapsed": false,
     "input": [],
     "language": "python",
     "metadata": {},
     "outputs": []
    }
   ],
   "metadata": {}
  }
 ]
}