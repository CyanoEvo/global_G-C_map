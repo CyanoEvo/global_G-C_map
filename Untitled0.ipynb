{
 "metadata": {
  "name": "",
  "signature": "sha256:c4058df37b863e9794b832afd7477f29700c1b058d731ae9ccb876bb2e9377e5"
 },
 "nbformat": 3,
 "nbformat_minor": 0,
 "worksheets": [
  {
   "cells": [
    {
     "cell_type": "code",
     "collapsed": false,
     "input": [
      "import numpy as np\n",
      "import re\n",
      "import string\n",
      "import os\n"
     ],
     "language": "python",
     "metadata": {},
     "outputs": [],
     "prompt_number": 4
    },
    {
     "cell_type": "code",
     "collapsed": false,
     "input": [
      "def strip_fasta(fname):\n",
      "    \"\"\"Removes header from fasta file\"\"\"\n",
      "    seq = open(fname)\n",
      "    seq = seq.read()\n",
      "    seq_strip = '\\n'.join(seq.split('\\n')[1:])\n",
      "    return seq_strip"
     ],
     "language": "python",
     "metadata": {},
     "outputs": [],
     "prompt_number": 5
    },
    {
     "cell_type": "code",
     "collapsed": false,
     "input": [
      "def gc_count(sequence):\n",
      "    \"\"\"calculates G-C content of fasta file\"\"\"\n",
      "    total_bp = sequence.count(\"A\") + sequence.count(\"T\") + sequence.count(\"G\") + sequence.count(\"C\")\n",
      "    total_GC = sequence.count(\"G\") + sequence.count(\"C\")\n",
      "    GC_content = (float(total_GC)/float(total_bp)*100)\n",
      "    return GC_content"
     ],
     "language": "python",
     "metadata": {},
     "outputs": [],
     "prompt_number": 6
    },
    {
     "cell_type": "code",
     "collapsed": false,
     "input": [
      "    path=\"/home/cyanoevo/Projects/g_c_mapping/seqs/\"\n",
      "    dirList=os.listdir(path)\n",
      "    for fname in dirList:\n",
      "        if fname.endswith(\".fasta\"):\n",
      "            print fname\n",
      "            z=strip_fasta(os.path.join(path,fname))\n",
      "            print gc_count(z)"
     ],
     "language": "python",
     "metadata": {},
     "outputs": [
      {
       "output_type": "stream",
       "stream": "stdout",
       "text": [
        "sequence.fasta\n",
        "54.3740573152\n",
        "29.8191_S__25.3499_E.fasta\n",
        "54.7619047619\n",
        "78.57_N__11.39_E.fasta\n",
        "55.7230980123\n"
       ]
      }
     ],
     "prompt_number": 17
    },
    {
     "cell_type": "code",
     "collapsed": false,
     "input": [],
     "language": "python",
     "metadata": {},
     "outputs": []
    }
   ],
   "metadata": {}
  }
 ]
}